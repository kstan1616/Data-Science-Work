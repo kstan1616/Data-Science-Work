{
 "cells": [
  {
   "cell_type": "markdown",
   "metadata": {},
   "source": [
    "## Linked List Lab\n",
    "\n",
    "A linked list is a data structre frequently used in computer science and is part of a standard set of interview questions. Other common data structred are hash tables and trees which we will cover later in the course.\n",
    "\n",
    "![](assets/linked_list.png)\n",
    "\n",
    "A linked list starts with an entry point which is called a node. Each node has two attributes namely a value and a pointer to another node. In this lab we will create two classes. A class Node and a class Linked List to wrap the linked nodes.\n",
    "\n",
    "1. Create a class for Linked List that initializes a linked list and returns a pointer to the head of the linked list. \n",
    "2. Create a function (inside Linked List) that appends an element to the end of the linked list\n",
    "3. Create a function that pops an element from the end of the list\n",
    "4. Use \\__repr\\__ to print out the elements of the linked list\n",
    "5. Create a function that adds an element to the beginning of the list\n",
    "6. Create a function that delets the first element from the linked list\n",
    "\n",
    "\n",
    "**Bonus:**\n",
    "\n",
    "Create a circular linked list allowing you to access the linked list from the beginning and the end. Implement the functions above for the circular list. How can you increase the efficiency of the algorithm for inserting and deleting?"
   ]
  },
  {
   "cell_type": "code",
   "execution_count": 5,
   "metadata": {
    "collapsed": false
   },
   "outputs": [
    {
     "ename": "TypeError",
     "evalue": "this constructor takes no arguments",
     "output_type": "error",
     "traceback": [
      "\u001b[0;31m---------------------------------------------------------------------------\u001b[0m",
      "\u001b[0;31mTypeError\u001b[0m                                 Traceback (most recent call last)",
      "\u001b[0;32m<ipython-input-5-ab4b3eb82aed>\u001b[0m in \u001b[0;36m<module>\u001b[0;34m()\u001b[0m\n\u001b[1;32m     32\u001b[0m \u001b[0;34m\u001b[0m\u001b[0m\n\u001b[1;32m     33\u001b[0m \u001b[0my\u001b[0m \u001b[0;34m=\u001b[0m \u001b[0mLinkedList\u001b[0m\u001b[0;34m(\u001b[0m\u001b[0;34m)\u001b[0m\u001b[0;34m\u001b[0m\u001b[0m\n\u001b[0;32m---> 34\u001b[0;31m \u001b[0my\u001b[0m\u001b[0;34m.\u001b[0m\u001b[0madd\u001b[0m\u001b[0;34m(\u001b[0m\u001b[0;36m3\u001b[0m\u001b[0;34m)\u001b[0m\u001b[0;34m\u001b[0m\u001b[0m\n\u001b[0m\u001b[1;32m     35\u001b[0m \u001b[0;34m\u001b[0m\u001b[0m\n\u001b[1;32m     36\u001b[0m \u001b[0;34m\u001b[0m\u001b[0m\n",
      "\u001b[0;32m<ipython-input-5-ab4b3eb82aed>\u001b[0m in \u001b[0;36madd\u001b[0;34m(self, value)\u001b[0m\n\u001b[1;32m      9\u001b[0m \u001b[0;34m\u001b[0m\u001b[0m\n\u001b[1;32m     10\u001b[0m     \u001b[0;32mdef\u001b[0m \u001b[0madd\u001b[0m\u001b[0;34m(\u001b[0m\u001b[0mself\u001b[0m\u001b[0;34m,\u001b[0m \u001b[0mvalue\u001b[0m\u001b[0;34m)\u001b[0m\u001b[0;34m:\u001b[0m\u001b[0;34m\u001b[0m\u001b[0m\n\u001b[0;32m---> 11\u001b[0;31m         \u001b[0mnew_node\u001b[0m \u001b[0;34m=\u001b[0m \u001b[0mNode\u001b[0m\u001b[0;34m(\u001b[0m\u001b[0mvalue\u001b[0m\u001b[0;34m)\u001b[0m\u001b[0;34m\u001b[0m\u001b[0m\n\u001b[0m\u001b[1;32m     12\u001b[0m         \u001b[0;32mif\u001b[0m \u001b[0mself\u001b[0m\u001b[0;34m.\u001b[0m\u001b[0mhead\u001b[0m \u001b[0;34m==\u001b[0m \u001b[0mNone\u001b[0m\u001b[0;34m:\u001b[0m\u001b[0;34m\u001b[0m\u001b[0m\n\u001b[1;32m     13\u001b[0m             \u001b[0mself\u001b[0m\u001b[0;34m.\u001b[0m\u001b[0mhead\u001b[0m \u001b[0;34m=\u001b[0m \u001b[0mnew_node\u001b[0m\u001b[0;34m\u001b[0m\u001b[0m\n",
      "\u001b[0;31mTypeError\u001b[0m: this constructor takes no arguments"
     ]
    }
   ],
   "source": [
    "class Node():\n",
    "    def _init_(self, value):\n",
    "        self.value = value\n",
    "        self.pointer = None\n",
    "class LinkedList():\n",
    "    def _init_(self, head = None):\n",
    "        self.head = head\n",
    "        self.tail = None\n",
    "        \n",
    "    def add(self, value):\n",
    "        new_node = Node(value)\n",
    "        if self.head == None:\n",
    "            self.head = new_node\n",
    "        if self.tail != None:\n",
    "            self.tail.pointer = new_node\n",
    "        self.head = new_node\n",
    "        \n",
    "    def remove(self, value):\n",
    "        current_node = self.head\n",
    "        prev_node = None\n",
    "        while current_node:\n",
    "            if current_node.get_data() == value:\n",
    "                if prev_node:\n",
    "                    prev_node.set_next(current_node.get_next())\n",
    "                else:\n",
    "                    self.head = current_node\n",
    "                return True\n",
    "            else:\n",
    "                prev_node = current_node\n",
    "                current_node = current_node.get_next()\n",
    "        return False\n",
    "\n",
    "y = LinkedList()\n",
    "y.add(3)\n",
    "\n",
    "#I'm stuck on this lab, I get what's going on I believe but was not able to complete the code on my own\n",
    "        "
   ]
  },
  {
   "cell_type": "code",
   "execution_count": null,
   "metadata": {
    "collapsed": true
   },
   "outputs": [],
   "source": []
  }
 ],
 "metadata": {
  "anaconda-cloud": {},
  "kernelspec": {
   "display_name": "Python [conda root]",
   "language": "python",
   "name": "conda-root-py"
  }
 },
 "nbformat": 4,
 "nbformat_minor": 1
}

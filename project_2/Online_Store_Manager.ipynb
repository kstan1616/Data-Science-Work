{
 "cells": [
  {
   "cell_type": "code",
   "execution_count": 31,
   "metadata": {
    "collapsed": false
   },
   "outputs": [
    {
     "name": "stdout",
     "output_type": "stream",
     "text": [
      "enter media type (audio, video, written: audio\n",
      "enter media type (audio, video, written: video\n",
      "('Count: ', 2, 'Stores: ', ['kyle', 'rich'])\n"
     ]
    }
   ],
   "source": [
    "#create class named OnlineSM or Online Store Manager\n",
    "class OnlineSM():\n",
    "    online_stores = {}   #dictionary of all the online stores that are created\n",
    "    online_stores_count = 0   #begin count of online stores created\n",
    "    \n",
    "    def __init__(self):\n",
    "        self.store_list = []   #initialize store list that will be unique to Online Store Manager\n",
    "        check = \"yes\"   #switch for while loop to ensure we set inventory template for stores\n",
    "        while check == \"yes\":\n",
    "            #enter in one of three types of stores, each selling three products and setting inventory to zero\n",
    "            self.media_types = raw_input('enter media type (audio, video, written: ')\n",
    "            if self.media_types == 'audio':\n",
    "                self.media_types_inventory = {'vinyl': 0, 'compact disc': 0, 'digital':0}\n",
    "                check = \"no\"\n",
    "            elif self.media_types == 'video':\n",
    "                self.media_types_inventory = {'documentary': 0, 'film': 0, 'concert':0}\n",
    "                check = \"no\"\n",
    "            elif self.media_types == 'written':\n",
    "                self.media_types_inventory = {'fiction': 0, 'non-fiction': 0, 'graphic novel':0}\n",
    "                check = \"no\"\n",
    "            else: \n",
    "                print \"please enter valid media type\"\n",
    "                continue\n",
    "    \n",
    "    #method to to print out number of stores created and list of stores\n",
    "    def stores_listcount(self):\n",
    "        return \"Count: \", self.online_stores_count, \"Stores: \", self.store_list \n",
    "              \n",
    "    #method creates new stores, importing the initialized inventory from the class, initializes store template   \n",
    "    def create_new_store(self, name):\n",
    "        company_info = {'inventory' : self.media_types_inventory, 'customer_list' : {}} #create dictionary with key values inventory and customer list\n",
    "        company_name = name   #sets name of new company created\n",
    "        self.online_stores[company_name] = company_info   #append new store name to list of all online stores created\n",
    "        self.online_stores_count += 1   #add count to count of online stores created\n",
    "        self.store_list.append(company_name) #append to list for stores in specific class\n",
    "        \n",
    "#creates online store class that inherits from online store manager, in which we can add inventory and summarize inventory and customers        \n",
    "class Online_store(OnlineSM):\n",
    "    def __init__(self, name):\n",
    "        self.name = name\n",
    "    \n",
    "    #adds inventory to store with item and amount given by user\n",
    "    def InventoryChange(self, media, amount):\n",
    "        if media in OnlineSM.online_stores[self.name]['inventory'].keys(): #is item sold by this store\n",
    "            OnlineSM.online_stores[self.name]['inventory'][media] = amount #if so all media and amount as key, value pair in dictionary(inventory)\n",
    "        else:\n",
    "            print \"Please enter valid media type\" #if not print out error\n",
    "    \n",
    "    #method returns inventory dictionary of store- items and amounts\n",
    "    def InventorySummary(self):\n",
    "        return OnlineSM.online_stores[self.name]['inventory']\n",
    "    \n",
    "    #method returns customer list dictionary of store- customers and items and amounts purchased\n",
    "    def CustomerSummary(self):\n",
    "        return OnlineSM.online_stores[self.name]['customer_list']\n",
    "\n",
    "#creates class customer where individual customers will make purchases from stores\n",
    "class Customer:\n",
    "    \n",
    "    #initialize customer, the name, and store they will shop at\n",
    "    def __init__(self, customer_name, online_store):\n",
    "        self.online_store = online_store\n",
    "        self.customer_name = customer_name\n",
    "        self.purchase_history = {}\n",
    "        #if customer has not shopped at store, add customer to customer list dictionary, with it value being an empty dictionary\n",
    "        if self.customer_name not in OnlineSM.online_stores[online_store]['customer_list'].keys():\n",
    "            OnlineSM.online_stores[online_store]['customer_list'][self.customer_name] = self.purchase_history\n",
    "    \n",
    "    #method where customers will make purchase, adding item and amount to value (customer is key)\n",
    "    def Customer_purchase(self, media, amount): \n",
    "        if media not in OnlineSM.online_stores[self.online_store]['inventory'].keys():   #check if item entered is sold by store\n",
    "            print \"store does not sell this type of product\"   #if not print out error statement\n",
    "        else:\n",
    "            if OnlineSM.online_stores[self.online_store]['inventory'][media] > amount:   #see if item being sold has sufficient inventory\n",
    "                OnlineSM.online_stores[self.online_store]['inventory'][media] = \\   #if sufficient inventory, subtract amount from store inventory\n",
    "                OnlineSM.online_stores[self.online_store]['inventory'][media] - amount\n",
    "                OnlineSM.online_stores[self.online_store]['customer_list'][self.customer_name][media] = amount   #add purchase to customers purchase history, a dictionary with key 'item' value 'amount'\n",
    "            else:\n",
    "                print \"inventory of media does not exist\"   #error statement if not sufficient inventory of item\n",
    "        \n",
    "                \n",
    "           \n",
    "\n",
    "\n",
    "        \n",
    "music_stores = OnlineSM()\n",
    "music_stores.create_new_store('kyle')\n",
    "kyle = Online_store('kyle')\n",
    "kyle.InventoryChange('vinyl', 5)\n",
    "ryan = Customer('ryan', 'kyle')\n",
    "ryan.Customer_purchase('vinyl', 3)\n",
    "music_stores.create_new_store('rich')\n",
    "rich = Online_store('rich')\n",
    "rich.InventoryChange('compact disc', 8)\n",
    "jason = Customer('jason', 'rich')\n",
    "rich.InventoryChange('vinyl', 9)\n",
    "jason.Customer_purchase('vinyl', 6)\n",
    "video_stores = OnlineSM()\n",
    "video_stores.create_new_store('blockbuster')\n",
    "blockbuster = Online_store('blockbuster')\n",
    "blockbuster.InventoryChange('documentary', 11)\n",
    "\n",
    "video_stores.online_stores\n",
    "print music_stores.stores_listcount()"
   ]
  },
  {
   "cell_type": "code",
   "execution_count": null,
   "metadata": {
    "collapsed": true
   },
   "outputs": [],
   "source": []
  },
  {
   "cell_type": "code",
   "execution_count": null,
   "metadata": {
    "collapsed": true
   },
   "outputs": [],
   "source": []
  }
 ],
 "metadata": {
  "anaconda-cloud": {},
  "kernelspec": {
   "display_name": "Python [conda root]",
   "language": "python",
   "name": "conda-root-py"
  },
  "language_info": {
   "codemirror_mode": {
    "name": "ipython",
    "version": 2
   },
   "file_extension": ".py",
   "mimetype": "text/x-python",
   "name": "python",
   "nbconvert_exporter": "python",
   "pygments_lexer": "ipython2",
   "version": "2.7.12"
  }
 },
 "nbformat": 4,
 "nbformat_minor": 1
}
